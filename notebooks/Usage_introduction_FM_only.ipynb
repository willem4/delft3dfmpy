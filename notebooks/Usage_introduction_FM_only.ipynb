{
 "cells": [
  {
   "cell_type": "markdown",
   "metadata": {},
   "source": [
    "## Overview of functionalities\n",
    "\n",
    "This notebook gives an overview of the functionalities of the D-HyDAMO module, part of the delft3dfmpy python package.\n",
    "\n",
    "For install instructions see: https://github.com/openearth/delft3dfmpy#installation\n",
    "\n",
    "Furthermore, it should be noted that recently added features were tested with dummy-data, which is included with this package. The generated model is, therefore, not necessarily a correct hydraulic representation, as some dummy structures were added and existing structures moved and/or adjusted. The purpose of this notebook is solely to illustrate the usage of the dhydamo module.\n",
    "\n",
    "This notebook is part of D-Hydamo in delft3dfmpy version 1.0.0. It, however, also works with subsequent versions. Version 1.0.0 is 'frozen' and regarded as a functional and stable version. Further developments are implemented in newer versions. To choose which version to install, install the package using pip as:\n",
    "\n",
    "For version 1.0.0:\n",
    "```\n",
    "pip install delft3dfmpy=1.0.0\n",
    "```\n",
    "Or a newer version:\n",
    "```\n",
    "pip install delft3dfmpy=1.1.3\n",
    "```\n",
    "In this way, the most recent version is installed:\n",
    "```\n",
    "pip install delft3dfmpy\n",
    "```\n",
    "This notebook is similar to the '_coupled_RRFM' variant, albeit that there is no RR component and all laterals are filled with time series."
   ]
  },
  {
   "cell_type": "markdown",
   "metadata": {},
   "source": [
    "## Loading libraries"
   ]
  },
  {
   "cell_type": "code",
   "execution_count": null,
   "metadata": {},
   "outputs": [],
   "source": [
    "# Basis\n",
    "import os\n",
    "import sys\n",
    "import shutil\n",
    "import numpy as np\n",
    "sys.path.append('../')      \n",
    "# Importing relevant classes from delft3dfmpy\n",
    "from delft3dfmpy import DFlowFMModel, HyDAMO, Rectangular, DFlowFMWriter\n",
    "from delft3dfmpy import DFlowRRModel, DFlowRRWriter\n",
    "from delft3dfmpy.datamodels.common import ExtendedGeoDataFrame\n",
    "\n",
    "# For reading SOBEK results as boundary conditions\n",
    "# hkvsobekpy requires the modules fire and tqdm, install these (conda install fire tqdm)\n",
    "import hkvsobekpy\n",
    "\n",
    "# shapefiles IO\n",
    "import geopandas as gpd\n",
    "\n",
    "# Import csv\n",
    "import pandas as pd\n",
    "\n",
    "# Geometries\n",
    "from shapely.geometry import Polygon, LineString\n",
    "\n",
    "# Plotting\n",
    "import matplotlib.pyplot as plt\n",
    "from matplotlib.collections import LineCollection\n",
    "\n",
    "%matplotlib inline"
   ]
  },
  {
   "cell_type": "markdown",
   "metadata": {},
   "source": [
    "### Read HYDAMO\n",
    "\n",
    "Note: the data are also added in zipped format, to be unzipped in case of errors with the downloaded gml-files.\n",
    "\n",
    "In the code section below the different parts or the HyDAMO gml are added. For more info on how to import the different elements from the HyDAMO gml, see: https://hkvconfluence.atlassian.net/wiki/spaces/DHYD/overview\n",
    "\n",
    "The general steps for importing the HyDAMO files are:\n",
    "- Read the objects from the GML file.\n",
    "- Snap the structures to the branches\n",
    "- Remove non-snapped structures, perhaps because the distance to the nearest branch was too large.\n",
    "\n",
    "A few remarks:\n",
    "- The converter requires a number of features with a specfic name. If the name in the gml does not match this name, it can be converted with the 'column_mapping'\n",
    "- The branch or structure data can also be loaded from shapefiles. Note that shapefiles have a max column length o f10 characters, so probably a lot of column_mapping is necessary."
   ]
  },
  {
   "cell_type": "markdown",
   "metadata": {},
   "source": [
    "Change these paths to access the data and to use all functionalities. dflowfm_path is needed to refine the 2D-grid."
   ]
  },
  {
   "cell_type": "code",
   "execution_count": null,
   "metadata": {},
   "outputs": [],
   "source": [
    "# path to the package containing the dummy-data\n",
    "data_path = os.path.abspath('../data')\n",
    "print(data_path)\n",
    "\n",
    "# path to dflowfm for refining the mesh \n",
    "dflowfm_path = r'D:\\3640.20\\software\\dflowfm-x64-1.2.105.67228M'\n",
    "\n",
    "# path to write the models\n",
    "output_path = r'D:\\3640.20\\modellen\\MGB_FMonly'\n",
    "\n",
    "# path to DIMR for a correct run.bat file\n",
    "dimr_path = r'D:\\3640.20\\software\\dimrset_x64_3615\\x64\\dimr\\scripts\\run_dimr.bat'"
   ]
  },
  {
   "cell_type": "code",
   "execution_count": null,
   "metadata": {},
   "outputs": [],
   "source": [
    "# define all files needed below\n",
    "fn_pilot_area = os.path.join(data_path, 'gis', 'selectie_pilot.shp')\n",
    "fn_branches = os.path.join(data_path, 'gml', 'hydroobject.gml')\n",
    "fn_crosssections = os.path.join(data_path, 'gml', 'dwarsprofiel.gml')\n",
    "fn_profiles = os.path.join(data_path, 'gml', 'NormGeparametriseerdProfiel.gml')\n",
    "fn_bridges = os.path.join(data_path, 'gml', 'brug.gml')\n",
    "fn_culverts = os.path.join(data_path, 'gml', 'duikersifonhevel.gml')\n",
    "fn_weirs = os.path.join(data_path, 'gml', 'stuw.gml')\n",
    "fn_orifices = os.path.join(data_path, 'gml', 'onderspuier.gml')\n",
    "fn_valves = os.path.join(data_path, 'gml', 'afsluitmiddel.gml')\n",
    "fn_laterals = os.path.join(data_path, 'sobekdata', 'Sbk_S3BR_n.shp')\n",
    "fn_pump1 = os.path.join(data_path, 'gml', 'gemaal.gml')\n",
    "fn_pump2 = os.path.join(data_path, 'gml', 'pomp.gml')\n",
    "fn_control = os.path.join(data_path, 'gml', 'sturing.gml')\n",
    "\n",
    "# initialize the class\n",
    "hydamo = HyDAMO(fn_pilot_area)\n",
    "\n",
    "# Branches\n",
    "hydamo.branches.read_gml(fn_branches, index_col='code', clip=hydamo.clipgeo)\n",
    "hydamo.branches['ruwheidstypecode'] = 4\n",
    "\n",
    "# read cross sections from GML\n",
    "hydamo.crosssections.read_gml(fn_crosssections, \n",
    "                              column_mapping={'ruwheidswaardelaag':'ruwheidswaarde'} ,\n",
    "                              index_col='profielcode' ,\n",
    "                              groupby_column='profielcode' , \n",
    "                              order_column='codevolgnummer')\n",
    "\n",
    "hydamo.crosssections.snap_to_branch(hydamo.branches, snap_method='intersecting')\n",
    "hydamo.crosssections.dropna(axis=0, inplace=True, subset=['branch_offset'])\n",
    "hydamo.crosssections.drop('code', axis=1, inplace=True)\n",
    "hydamo.crosssections.rename(columns={'profielcode': 'code'}, inplace=True)\n",
    "\n",
    "hydamo.parametrised_profiles.read_gml(fn_profiles, column_mapping={'ruwheidswaardelaag': 'ruwheidswaarde'})\n",
    "hydamo.parametrised_profiles.snap_to_branch(hydamo.branches, snap_method='intersecting')\n",
    "hydamo.parametrised_profiles.dropna(axis=0, inplace=True, subset=['branch_offset'])\n",
    "\n",
    "# Bridges\n",
    "hydamo.bridges.read_gml(fn_bridges)\n",
    "hydamo.bridges.snap_to_branch(hydamo.branches, snap_method='overal', maxdist=5)\n",
    "hydamo.bridges.dropna(axis=0, inplace=True, subset=['branch_offset'])\n",
    "\n",
    "# Culverts\n",
    "hydamo.culverts.read_gml(\n",
    "   fn_culverts,\n",
    "   index_col='code',\n",
    "   column_mapping={'vormkoker': 'vormcode'},\n",
    "   clip=hydamo.clipgeo\n",
    ")\n",
    "hydamo.culverts.snap_to_branch(hydamo.branches, snap_method='ends', maxdist=5)\n",
    "hydamo.culverts.dropna(axis=0, inplace=True, subset=['branch_offset'])\n",
    "duikers_rekentijd = ['RS372-KDU3','RS375-KDU2','RS373-KDU7','RS373-KDU20','RS373-KDU22','RS373-KDU19']\n",
    "duikers_gemalen = ['OWL32921-KDU3','RS375-KDU6']             \n",
    "hydamo.culverts.drop(duikers_rekentijd, axis=0, inplace=True)\n",
    "hydamo.culverts.drop(duikers_gemalen, axis=0, inplace=True)\n",
    "\n",
    "# Weirs (including universal weirs)\n",
    "hydamo.weirs.read_gml(fn_weirs)\n",
    "hydamo.weirs.snap_to_branch(hydamo.branches, snap_method='overal', maxdist=10)\n",
    "hydamo.weirs.dropna(axis=0, inplace=True, subset=['branch_offset'])\n",
    "\n",
    "# Orifices\n",
    "hydamo.orifices.read_gml(fn_orifices)\n",
    "hydamo.orifices.snap_to_branch(hydamo.branches, snap_method='overal', maxdist=2)\n",
    "hydamo.orifices.dropna(axis=0, inplace=True, subset=['branch_offset'])\n",
    "\n",
    "# Closing devices / terugslagkleppen e.d.\n",
    "hydamo.afsluitmiddel.read_gml(fn_valves, index_col='code')\n",
    "\n",
    "# Laterals (imported from shapefile)\n",
    "hydamo.laterals.read_shp(fn_laterals,\n",
    "                         column_mapping={'ID        ': 'code', \n",
    "                                         'NAME      ': 'name',\n",
    "                                         'X         ':'X',\n",
    "                                         'Y         ':'Y'})\n",
    "hydamo.laterals.snap_to_branch(hydamo.branches, snap_method='overal', maxdist=  5)\n",
    "hydamo.laterals.dropna(axis=0, inplace=True, subset=['branch_offset'])\n",
    "\n",
    "# Pumps\n",
    "hydamo.gemalen.read_gml(fn_pump1, index_col='code', clip=hydamo.clipgeo)\n",
    "hydamo.pumps.read_gml(fn_pump2, index_col='code', clip=hydamo.clipgeo)\n",
    "hydamo.pumps.snap_to_branch(hydamo.branches, snap_method='overal', maxdist=5)\n",
    "hydamo.pumps['maximalecapaciteit'] *= 60\n",
    "hydamo.sturing.read_gml(fn_control, index_col='code')\n"
   ]
  },
  {
   "cell_type": "markdown",
   "metadata": {},
   "source": [
    "Plot the model with branches, cross sections and structures. Note that compound structures are not plotted here as they do not have a geometry on their own; they are composed from their sub-structures that do have a geometry and are plotted here."
   ]
  },
  {
   "cell_type": "code",
   "execution_count": null,
   "metadata": {
    "scrolled": true
   },
   "outputs": [],
   "source": [
    "fn_background = os.path.join(data_path, 'gis', 'achtergrond.png')\n",
    "plt.rcParams['axes.edgecolor'] = 'w'\n",
    "\n",
    "fig, ax = plt.subplots(figsize=(10, 10))\n",
    "\n",
    "ax.fill(*hydamo.clipgeo.exterior.xy, color='w', alpha=0.5)\n",
    "ax.xaxis.set_visible(False)\n",
    "ax.yaxis.set_visible(False)\n",
    "ax.set_xlim(139600, 142400)\n",
    "ax.set_ylim(391700, 395600)\n",
    "\n",
    "achtergrond = plt.imread(fn_background)\n",
    "ax.imshow(achtergrond, extent=(139517.12, 142957.76, 391606.8, 395907.6), interpolation='lanczos')\n",
    "\n",
    "hydamo.branches.plot(ax=ax, label='Channel')\n",
    "hydamo.crosssections.plot(ax=ax, color='C3', label='Cross section')\n",
    "hydamo.culverts.centroid.plot(ax=ax, color='darkgreen', label='Culvert', markersize=20, zorder=10)\n",
    "hydamo.weirs.centroid.plot(ax=ax, color='C1', label='Weir', markersize=25, zorder=10)\n",
    "hydamo.bridges.plot(ax=ax,color='red',label='Bridge',markersize=20,zorder=10)\n",
    "hydamo.orifices.plot(ax=ax,color='black',label='Orifice',markersize=20,zorder=10)\n",
    "hydamo.pumps.plot(\n",
    "    ax=ax, color='C4', label='Pump', marker='s', markersize=125, zorder=10, facecolor='none', linewidth=2.5)\n",
    "\n",
    "ax.legend()\n",
    "\n",
    "fig.tight_layout()"
   ]
  },
  {
   "cell_type": "markdown",
   "metadata": {},
   "source": [
    "### Generate the D-HYDRO FM schematisation"
   ]
  },
  {
   "cell_type": "markdown",
   "metadata": {},
   "source": [
    "#### Create the 1D network"
   ]
  },
  {
   "cell_type": "markdown",
   "metadata": {},
   "source": [
    "Convert the geometries to D-HYDRO schematisation:\n",
    "\n",
    "Start with importing the structures (from HyDAMO in this case), since the position of the structure can be used in defining the position of the 1d nodes. \n",
    "\n",
    "Structures can also be added without the HyDAMO imports. One weir is added manually, but this can be done for all implemented structures.\n",
    "\n",
    "Note that for importing most structures multiple gml-files are needed. For more info on how to add structures (directly or from HyDAMO), see: https://hkvconfluence.atlassian.net/wiki/spaces/DHYD/overview.\n",
    "\n",
    " - for weirs, a corresponding profile is looked up in the crossections. If one is found (either a YZ or a parametrised profile) the weir is implemented as a universal weir. If it is not found, a regular (rectangular) weir will be used. The cross-section should contain a 'codegeralateerdobject' containing the ID of the universal weir.\n",
    " - culverts can also use an 'afsluitmiddel'; if one is coupled for a specific culvert and its type is 5 (terugslagklep) the flow direction is set 'positive' instead of 'both'. If the type is 4 (schuif), a valve will be implemented.\n",
    " - bridges need an associated crosssection (through the field 'codegerelateerdobject' in the cross-section); this can be either 'YZ' or 'parametrised'. The profiles are then processed so a suitable cross-section for a bridge is created;\n",
    " - pumps are composed from 'gemalen', 'pompen' and 'sturing'.\n",
    "\n",
    "In most cases, these 'extra' arguments are optional, i.e. they are not required and can be left out. Some are required:\n",
    "- pumps really need all 3 objects (gemalen, pompen en sturing);\n",
    "- bridges really need a profile (either 'crosssections' or 'parametrised_profiles' needs to contain a field 'codegerelateerdobject' that points to each bridge).\n",
    "\n",
    "For more info on the structure definitions one is referred to the D-Flow FM user manual: https://content.oss.deltares.nl/delft3d/manuals/D-Flow_FM_User_Manual.pdf.\n",
    "\n",
    "Note that orifices do not yet have an appropriate/definitive definition in HYDAMO. To be able to use it, we now use a separate GML-definition ('onderspuier\") but possibly this will be integrated in the definition for weirs. To be continued.\n"
   ]
  },
  {
   "cell_type": "code",
   "execution_count": null,
   "metadata": {},
   "outputs": [],
   "source": [
    "dfmmodel = DFlowFMModel()\n",
    "\n",
    "# Collect structures\n",
    "dfmmodel.structures.io.weirs_from_hydamo(hydamo.weirs, yz_profiles=hydamo.crosssections, parametrised_profiles=hydamo.parametrised_profiles)\n",
    "dfmmodel.structures.io.culverts_from_hydamo(hydamo.culverts, hydamo.afsluitmiddel)\n",
    "dfmmodel.structures.io.bridges_from_hydamo(hydamo.bridges, yz_profiles=hydamo.crosssections, parametrised_profiles=hydamo.parametrised_profiles)\n",
    "dfmmodel.structures.io.orifices_from_hydamo(hydamo.orifices)\n",
    "dfmmodel.structures.io.pumps_from_hydamo(pompen=hydamo.pumps, sturing=hydamo.sturing, gemalen=hydamo.gemalen)\n",
    "\n",
    "# Add a weir manually (equivalent functions exist for all structures):\n",
    "dfmmodel.structures.add_weir(\n",
    "    id='extra_weir',\n",
    "    branchid='riv_RS1_1810',\n",
    "    chainage=950.0,\n",
    "    crestlevel=8.00,\n",
    "    crestwidth=7.5,\n",
    "    corrcoeff=1.0    \n",
    ")"
   ]
  },
  {
   "cell_type": "markdown",
   "metadata": {},
   "source": [
    "For some structures it is possible to set a time series on their controls. Currently these are:\n",
    "- for weirs, the crestlevel\n",
    "- for orifices, the lower edge level of the gate\n",
    "- for culverts, the valve opening height.\n",
    "\n",
    "IN D-HYDRO, the associated parameter names are, respectively, 'weir_crestLevel', 'orifice_gateLowerEdgeLevel' and 'culvert_valveOpeningHeight', but for the converter it is sufficient to use only part of these names, for example 'crest' (or crestlevel), 'gate' , or 'valve'. It is case insensitive and the full names is then implemented in D-HYDRO input.\n",
    "\n",
    "The time series should be provided as a pandas series, with timesteps as indices.\n",
    "\n",
    "Structure types should be 'weir', 'orifice' or 'culvert'; other structures are not supported yet."
   ]
  },
  {
   "cell_type": "code",
   "execution_count": null,
   "metadata": {},
   "outputs": [],
   "source": [
    "#  test crestLevel time series for weir Weir_RS373-st1\n",
    "cl = pd.read_csv(data_path+'/sobekdata/crestlevel_weir_RS373-st1.csv', sep=';', index_col=0)\n",
    "cl.index = pd.to_datetime(cl.index)\n",
    "dfmmodel.external_forcings.set_structure_series('Weir_RS373-st1', 'weir','crest',cl)"
   ]
  },
  {
   "cell_type": "code",
   "execution_count": null,
   "metadata": {},
   "outputs": [],
   "source": [
    "fig, ax = plt.subplots()\n",
    "ax.plot(\n",
    "    dfmmodel.external_forcings.structures.loc['Weir_RS373-st1']['time'],\n",
    "    dfmmodel.external_forcings.structures.loc['Weir_RS373-st1']['value'],\n",
    "    label='Crest level [m+NAP]'\n",
    ")\n",
    "ax.set_ylabel('Crest level [m+NAP]')\n",
    "ax.set_xlabel('Time [minutes since start]')"
   ]
  },
  {
   "cell_type": "markdown",
   "metadata": {},
   "source": [
    "Compound structures are composed of other structures and will not be implemented as such in HyDAMO. D-Flow FM simply needs an ID for every compound structure and a list of structures it should be composed of. They should be snapped to the same branch but not necessarily to the exact same location.\n",
    "\n",
    "To use, provide a list of ID's of compound structures, and along with, for every compound structure, a nested list of sub-structures. If there are many, these can be read from files (for example)."
   ]
  },
  {
   "cell_type": "code",
   "execution_count": null,
   "metadata": {},
   "outputs": [],
   "source": [
    "cmpnd_ids  = ['cmpnd_1']\n",
    "cmpnd_list = [['Orifice_Test1','UWeir_Test2']]\n",
    "dfmmodel.structures.io.compound_structures(cmpnd_ids, cmpnd_list)"
   ]
  },
  {
   "cell_type": "markdown",
   "metadata": {},
   "source": [
    "After this add the branches and generate a grid."
   ]
  },
  {
   "cell_type": "code",
   "execution_count": null,
   "metadata": {},
   "outputs": [],
   "source": [
    "# Create a 1D schematisation\n",
    "dfmmodel.network.set_branches(hydamo.branches)\n",
    "dfmmodel.network.generate_1dnetwork(one_d_mesh_distance=40.0, seperate_structures=True)"
   ]
  },
  {
   "cell_type": "markdown",
   "metadata": {},
   "source": [
    "Add cross sections. Here two hydamo files are used. First the imported cross sections. If after this there are branch objects left without a cross sections, it is derived from the norm parametrised profile (Dutch: legger)."
   ]
  },
  {
   "cell_type": "code",
   "execution_count": null,
   "metadata": {},
   "outputs": [],
   "source": [
    "# Add cross sections from hydamo\n",
    "dfmmodel.crosssections.io.from_hydamo(\n",
    "    dwarsprofielen=hydamo.crosssections,\n",
    "    parametrised=hydamo.parametrised_profiles,\n",
    "    branches=hydamo.branches\n",
    ")\n",
    "\n",
    "print(f'{len(dfmmodel.crosssections.get_branches_without_crosssection())} branches are still missing a cross section.')\n",
    "print(f'{len(dfmmodel.crosssections.get_structures_without_crosssection())} structures are still missing a cross section.')"
   ]
  },
  {
   "cell_type": "markdown",
   "metadata": {},
   "source": [
    "If there are still missing cross sections left, add a default one. To do so add a cross section definition, and assign it with a vertical offset (shift)."
   ]
  },
  {
   "cell_type": "code",
   "execution_count": null,
   "metadata": {},
   "outputs": [],
   "source": [
    "# Set a default cross section\n",
    "default = dfmmodel.crosssections.add_rectangle_definition(\n",
    "    height=5.0, width=5.0, closed=False, roughnesstype='Strickler', roughnessvalue=30)\n",
    "dfmmodel.crosssections.set_default_definition(definition=default, shift=5.0)"
   ]
  },
  {
   "cell_type": "markdown",
   "metadata": {},
   "source": [
    "#### Add a 2D mesh"
   ]
  },
  {
   "cell_type": "markdown",
   "metadata": {},
   "source": [
    "To add a mesh, currently 2 options exist:"
   ]
  },
  {
   "cell_type": "markdown",
   "metadata": {},
   "source": [
    "1) the converter can generate a relatively simple, rectangular mesh, with a rotation or refinement. Note that rotation _and_ refinement is currently not possible. In the section below we generate a refined 2D mesh with the following steps:\n",
    "\n",
    "- Generate grid within a polygon. The polygon is the extent given to the HyDAMO model.\n",
    "- Refine along the main branch\n",
    "- Determine altitude from a DEM.\n",
    "\n",
    "The 'refine'-method requires the dflowfm.exe executable. If this is not added to the system path, it can be provided in an optional argument to refine (dflowfm_path)."
   ]
  },
  {
   "cell_type": "code",
   "execution_count": null,
   "metadata": {},
   "outputs": [],
   "source": [
    "# Create mesh object\n",
    "mesh = Rectangular()\n",
    "cellsize = 25\n",
    "\n",
    "# Generate mesh within model bounds\n",
    "mesh.generate_within_polygon(hydamo.clipgeo, cellsize=cellsize, rotation=0)\n",
    "\n",
    "# Refine the model (2 steps) along the main branch. To do so we generate a buffer around the main branch.\n",
    "buffered_branch = hydamo.branches.loc[['riv_RS1_1810', 'riv_RS1_264'], 'geometry'].unary_union.buffer(10)\n",
    "mesh.refine(polygon=[buffered_branch], level=[2], cellsize=cellsize, dflowfm_path=dflowfm_path)\n",
    "\n",
    "# Determine the altitude from a digital elevation model\n",
    "# rasterpath = '../gis/AHNdommel_clipped.tif'\n",
    "# mesh.altitude_from_raster(rasterpath)\n",
    "\n",
    "# The full DEM is not added to this notebook. Instead a constant bed level is used\n",
    "mesh.altitude_constant(15.0)\n",
    "\n",
    "# Add to schematisation\n",
    "dfmmodel.network.add_mesh2d(mesh)"
   ]
  },
  {
   "cell_type": "markdown",
   "metadata": {},
   "source": [
    "2) a more complex mesh can be created in other software (such as SMS) and then imported in the converter: (uncomment to activate)"
   ]
  },
  {
   "cell_type": "code",
   "execution_count": null,
   "metadata": {},
   "outputs": [],
   "source": [
    "#from dhydamo.core.mesh2d import Mesh2D\n",
    "#mesh = Mesh2D()\n",
    "# import the geometry\n",
    "#mesh.geom_from_netcdf(r'T:\\2Hugo\\Grid_Roer_net.nc')\n",
    "# fill every cell with an elevation value\n",
    "#mesh.altitude_from_raster(rasterpath)\n",
    "# and add to the model\n",
    "#dfmmodel.network.add_mesh2d(mesh)"
   ]
  },
  {
   "cell_type": "markdown",
   "metadata": {},
   "source": [
    "#### Add the 1D-2D links"
   ]
  },
  {
   "cell_type": "markdown",
   "metadata": {},
   "source": [
    "For linking the 1D and 2D model, three options are available:\n",
    "1. Generating links from each 1d node to the nearest 2d node.\n",
    "2. Generating links from each 2d node to the nearest 1d node (intersecting==True)\n",
    "3. Generating links from each 2d node to the nearest 1d node, while not allowing the links to intersect other cells (intersecting==True).\n",
    "\n",
    "Intersecting indicates whether or not the 2D cells cross the 1D network (lateral versus embedded links).\n",
    "So, option 3 is relevant when there is no 2d mesh on top of the 1d mesh: the lateral links.\n",
    "\n",
    "Note that for each option a maximum link length can be chosen, to prevent creating long (and perhaps unrealistic) links."
   ]
  },
  {
   "cell_type": "code",
   "execution_count": null,
   "metadata": {},
   "outputs": [],
   "source": [
    "del dfmmodel.network.links1d2d.faces2d[:]\n",
    "del dfmmodel.network.links1d2d.nodes1d[:]\n",
    "dfmmodel.network.links1d2d.generate_1d_to_2d(max_distance=50)"
   ]
  },
  {
   "cell_type": "code",
   "execution_count": null,
   "metadata": {},
   "outputs": [],
   "source": [
    "fig, ax = plt.subplots(figsize=(13, 10))\n",
    "ax.set_aspect(1.0)\n",
    "\n",
    "segments = dfmmodel.network.mesh2d.get_segments()\n",
    "ax.add_collection(LineCollection(segments, color='0.3', linewidths=0.5, label='2D-mesh'))\n",
    "\n",
    "links = dfmmodel.network.links1d2d.get_1d2dlinks()\n",
    "ax.add_collection(LineCollection(links, color='k', linewidths=0.5))\n",
    "ax.plot(links[:, :, 0].ravel(), links[:, :, 1].ravel(), color='k', marker='.', ls='', label='1D2D-links')\n",
    "\n",
    "for i, p in enumerate([buffered_branch]):\n",
    "    ax.plot(*p.exterior.xy, color='C3', lw=1.5, zorder=10, alpha=0.8, label='Refinement buffer' if i==0 else None)\n",
    "\n",
    "hydamo.branches.plot(ax=ax, color='C0', lw=2.5, alpha=0.8, label='1D-mesh')\n",
    "\n",
    "ax.legend()\n",
    "\n",
    "ax.set_xlim(140900, 141300)\n",
    "ax.set_ylim(393400, 393750);"
   ]
  },
  {
   "cell_type": "markdown",
   "metadata": {},
   "source": [
    "### Boundary conditions for FM\n",
    "\n",
    "Add boundary conditions to external forcings from a SOBEK time series."
   ]
  },
  {
   "cell_type": "code",
   "execution_count": null,
   "metadata": {},
   "outputs": [],
   "source": [
    "fn_bcs = os.path.join(data_path, 'sobekdata', 'boundaryconditions.csv')\n",
    "bcs = pd.read_csv(fn_bcs, sep=';', index_col=0)\n",
    "bcs.index = pd.to_datetime(bcs.index)"
   ]
  },
  {
   "cell_type": "code",
   "execution_count": null,
   "metadata": {},
   "outputs": [],
   "source": [
    "dfmmodel.external_forcings.add_boundary_condition(\n",
    "    name='BC_flow_in',\n",
    "    pt=(140712.056047, 391893.277878),\n",
    "    bctype='discharge',\n",
    "    series=bcs['Discharge']\n",
    ")\n",
    "\n",
    "dfmmodel.external_forcings.add_boundary_condition(\n",
    "    name='BC_wlev_down',\n",
    "    pt=(141133.788766, 395441.748424),\n",
    "    bctype='waterlevel',\n",
    "    series=bcs['Waterlevel']\n",
    ")"
   ]
  },
  {
   "cell_type": "code",
   "execution_count": null,
   "metadata": {},
   "outputs": [],
   "source": [
    "fig, ax = plt.subplots()\n",
    "\n",
    "ax.plot(\n",
    "    dfmmodel.external_forcings.boundaries['BC_flow_in']['time'],\n",
    "    dfmmodel.external_forcings.boundaries['BC_flow_in']['value'],\n",
    "    label='Discharge [m3/s]'\n",
    ")\n",
    "\n",
    "ax.plot(\n",
    "    dfmmodel.external_forcings.boundaries['BC_wlev_down']['time'],\n",
    "    dfmmodel.external_forcings.boundaries['BC_wlev_down']['value'],\n",
    "    label='Water level [m+NAP]'\n",
    ")\n",
    "\n",
    "ax.set_ylabel('Value (discharge or waterlevel)')\n",
    "ax.set_xlabel('Time [minutes]')\n",
    "\n",
    "ax.legend();"
   ]
  },
  {
   "cell_type": "markdown",
   "metadata": {},
   "source": [
    "### Initial conditions"
   ]
  },
  {
   "cell_type": "markdown",
   "metadata": {},
   "source": [
    "There are four ways to set the initial conditions. First, global water level or depth can be set. In the example, we use a global water depth of 0.5 m, but we could also use the equivalent function \"set_initial_waterlevel\"."
   ]
  },
  {
   "cell_type": "code",
   "execution_count": null,
   "metadata": {},
   "outputs": [],
   "source": [
    "# Initial water depth is set to 0.5 m\n",
    "dfmmodel.external_forcings.set_initial_waterdepth(0.5)"
   ]
  },
  {
   "cell_type": "markdown",
   "metadata": {},
   "source": [
    "It is also possible to define a certain area, using a polygon, with alternative initial conditions (level or depth)."
   ]
  },
  {
   "cell_type": "code",
   "execution_count": null,
   "metadata": {},
   "outputs": [],
   "source": [
    "#init_special = gpd.read_file(data_path+'/GIS/init_waterlevel_special.shp')\n",
    "#dfmmodel.external_forcings.set_initial_waterlevel(10.0, polygon=init_special.geometry[0], name='test_polygon')"
   ]
  },
  {
   "cell_type": "markdown",
   "metadata": {},
   "source": [
    "### Lateral flow"
   ]
  },
  {
   "cell_type": "markdown",
   "metadata": {},
   "source": [
    "Lateral flow can be obtained from the coupling with the RR-model, or by providing time series. Here, these are read from a Sobek model. In the coupling below, nodes that are not linked to a RR-boundary node are assumed to have a prescribed time series.\n",
    "\n",
    "If a DFM-model is run offline, timeseries should be provided for all laterals."
   ]
  },
  {
   "cell_type": "code",
   "execution_count": null,
   "metadata": {},
   "outputs": [],
   "source": [
    "###For adding the lateral inflow we import SOBEK results. To do so we use hkvsobekpy. For more info on this module, see: https://github.com/HKV-products-services/hkvsobekpy\n",
    "# # Add the lateral inflows also from the SOBEK results. Naote that the column names in the his-file need to match\n",
    "# # the id's of the imported lateral locations at the top of this notebook.\n",
    "rehis = hkvsobekpy.read_his.ReadMetadata(data_path+'/sobekdata/QLAT.HIS', hia_file='auto')\n",
    "param = [p for p in rehis.GetParameters() if 'disch' in p][0]\n",
    "lateral_discharge = rehis.DataFrame().loc[:, param]\n",
    "lateral_discharge.drop('lat_986', inplace=True, axis=1)"
   ]
  },
  {
   "cell_type": "code",
   "execution_count": null,
   "metadata": {},
   "outputs": [],
   "source": [
    "dfmmodel.external_forcings.io.read_laterals(hydamo.laterals, lateral_discharges=lateral_discharge)"
   ]
  },
  {
   "cell_type": "markdown",
   "metadata": {},
   "source": [
    "### Observation points"
   ]
  },
  {
   "cell_type": "markdown",
   "metadata": {},
   "source": [
    "Observation points are now written in the new format, where once can discriminate between 1D ('1d') and 2D ('2d') observation points. This can be done using the optional argument 'locationTypes'. If it is omitted, all points are assumed to be 1d. 1D-points are always snapped to a the nearest branch. 2D-observation points are always defined by their X/Y-coordinates.\n",
    "\n",
    "Note: add_points can be called only once: once dfmodel.observation_points is filled,the add_points-method is not available anymore. Observation point coordinates can be definied eiher as an (x,y)-tuple or as a shapely Point-object."
   ]
  },
  {
   "cell_type": "code",
   "execution_count": null,
   "metadata": {},
   "outputs": [],
   "source": [
    "from shapely.geometry import Point\n",
    "dfmmodel.observation_points.add_points([Point((141150, 393700)),(141155, 393705)],['ObsPt1','ObsPt2'], locationTypes=['1d','1d'])"
   ]
  },
  {
   "cell_type": "markdown",
   "metadata": {},
   "source": [
    "### Settings and writing\n",
    "\n",
    "Finally, we adjust some settings and export the coupled FM-RR model. For more info on the settings: https://content.oss.deltares.nl/delft3d/manuals/D-Flow_FM_User_Manual.pdf\n",
    "\n",
    "The 1D/2D model (FM) is written to the sub-folder 'fm'; RR-files are written to 'rr'. An XML-file (dimr-config.xml) describes the coupling between the two. Note that both the GUI and Interaktor do not (yet) support RR, so the only way to carry out a coupled simulation is using DIMR.\n"
   ]
  },
  {
   "cell_type": "code",
   "execution_count": null,
   "metadata": {},
   "outputs": [],
   "source": [
    "# Runtime and output settings\n",
    "# for FM model\n",
    "dfmmodel.mdu_parameters['refdate'] = 20000101\n",
    "dfmmodel.mdu_parameters['tstart'] = 0.0 * 3600\n",
    "dfmmodel.mdu_parameters['tstop'] = 24.0 * 1 * 3600\n",
    "dfmmodel.mdu_parameters['hisinterval'] = '120. 0. 0.'\n",
    "dfmmodel.mdu_parameters['cflmax'] = 0.7\n",
    "\n",
    "# Create writer\n",
    "dfmmodel.dimr_path = dimr_path\n",
    "fm_writer = DFlowFMWriter(dfmmodel, output_dir=output_path, name='moergestels_broek')\n",
    "\n",
    "# Write as model\n",
    "fm_writer.objects_to_ldb()\n",
    "fm_writer.write_all()"
   ]
  },
  {
   "cell_type": "markdown",
   "metadata": {},
   "source": [
    "Finished!"
   ]
  },
  {
   "cell_type": "code",
   "execution_count": null,
   "metadata": {},
   "outputs": [],
   "source": []
  }
 ],
 "metadata": {
  "kernelspec": {
   "display_name": "delft3dfmpy",
   "language": "python",
   "name": "delft3dfmpy"
  },
  "language_info": {
   "codemirror_mode": {
    "name": "ipython",
    "version": 3
   },
   "file_extension": ".py",
   "mimetype": "text/x-python",
   "name": "python",
   "nbconvert_exporter": "python",
   "pygments_lexer": "ipython3",
   "version": "3.7.10"
  }
 },
 "nbformat": 4,
 "nbformat_minor": 4
}
