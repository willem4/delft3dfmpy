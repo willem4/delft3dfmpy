{
 "cells": [
  {
   "cell_type": "markdown",
   "metadata": {},
   "source": [
    "## Overview of functionalities\n",
    "\n",
    "This notebook gives an overview of the functionalities of the D-HyDAMO module, part of the delft3dfmpy python package.\n",
    "\n",
    "For install instructions see: https://github.com/openearth/delft3dfmpy#installation\n",
    "\n",
    "Furthermore, it should be noted that recently added features were tested with dummy-data, which is included with this package. The generated model is, therefore, not necessarily a correct hydraulic representation, as some dummy structures were added and existing structures moved and/or adjusted. The purpose of this notebook is solely to illustrate the usage of the dhydamo module.\n",
    "\n",
    "This notebook is part of D-Hydamo in delft3dfmpy version 1.0.0. It, however, also works with subsequent versions. Version 1.0.0 is 'frozen' and regarded as a functional and stable version. Further developments are implemented in newer versions. To choose which version to install, install the package using pip as:\n",
    "\n",
    "For version 1.0.0:\n",
    "```\n",
    "pip install delft3dfmpy=1.0.0\n",
    "```\n",
    "Or a newer version:\n",
    "```\n",
    "pip install delft3dfmpy=1.0.2\n",
    "```\n",
    "In this way, the most recent version is installed:\n",
    "```\n",
    "pip install delft3dfmpy\n",
    "```\n",
    "\n",
    "\n"
   ]
  },
  {
   "cell_type": "markdown",
   "metadata": {},
   "source": [
    "To enable complete execution of this notebook, point these paths to the correct locations on your computer:"
   ]
  },
  {
   "cell_type": "code",
   "execution_count": null,
   "metadata": {},
   "outputs": [],
   "source": [
    "# Basis\n",
    "import os\n",
    "import sys\n",
    "import shutil\n",
    "import numpy as np\n",
    "\n",
    "sys.path.append('../')       \n",
    "# Importing relevant classes from delft3dfmpy\n",
    "from delft3dfmpy import DFlowFMModel, HyDAMO, Rectangular, DFlowFMWriter\n",
    "from delft3dfmpy import DFlowRRModel, DFlowRRWriter\n",
    "from delft3dfmpy.datamodels.common import ExtendedGeoDataFrame\n",
    "\n",
    "# For reading SOBEK results as boundary conditions\n",
    "# hkvsobekpy requires the modules fire and tqdm, install these (conda install fire tqdm)\n",
    "import hkvsobekpy\n",
    "\n",
    "# shapefiles IO\n",
    "import geopandas as gpd\n",
    "\n",
    "# Import csv\n",
    "import pandas as pd\n",
    "\n",
    "# Geometries\n",
    "from shapely.geometry import Polygon, LineString\n",
    "\n",
    "# Plotting\n",
    "import matplotlib.pyplot as plt\n",
    "from matplotlib.collections import LineCollection\n",
    "\n",
    "%matplotlib inline"
   ]
  },
  {
   "cell_type": "markdown",
   "metadata": {},
   "source": [
    "Change these paths to access the data and to use all functionalities. dflowfm_path is needed to refine the 2D-grid."
   ]
  },
  {
   "cell_type": "code",
   "execution_count": null,
   "metadata": {},
   "outputs": [],
   "source": [
    "# path to the package containing the dummy-data\n",
    "data_path = os.path.abspath('../data')\n",
    "\n",
    "# path to dflowfm for refining the mesh \n",
    "dflowfm_path = r'D:\\3640.20\\software\\dflowfm-x64-1.2.105.67228M'\n",
    "\n",
    "# path to write the models\n",
    "output_path = r'D:\\3640.20\\modellen\\MGB_coupled_RRFM'\n",
    "\n",
    "# path to DIMR for a correct run.bat file\n",
    "dimr_path = r'D:\\3640.20\\software\\dimrset_x64_3615\\x64\\dimr\\scripts\\run_dimr.bat'"
   ]
  },
  {
   "cell_type": "markdown",
   "metadata": {},
   "source": [
    "### Read HYDAMO\n",
    "\n",
    "Note: the data are also added in zipped format, to be unzipped in case of errors with the downloaded gml-files.\n",
    "\n",
    "In the code section below the different parts or the HyDAMO gml are added. For more info on how to import the different elements from the HyDAMO gml, see: https://hkvconfluence.atlassian.net/wiki/spaces/DHYD/overview\n",
    "\n",
    "The general steps for importing the HyDAMO files are:\n",
    "- Read the objects from the GML file.\n",
    "- Snap the structures to the branches\n",
    "- Remove non-snapped structures, perhaps because the distance to the nearest branch was too large.\n",
    "\n",
    "A few remarks:\n",
    "- The converter requires a number of features with a specfic name. If the name in the gml does not match this name, it can be converted with the 'column_mapping'\n",
    "- The branch or structure data can also be loaded from shapefiles. Note that shapefiles have a max column length o f10 characters, so probably a lot of column_mapping is necessary."
   ]
  },
  {
   "cell_type": "code",
   "execution_count": null,
   "metadata": {},
   "outputs": [],
   "source": [
    "# initialize the class\n",
    "hydamo = HyDAMO(extent_file=os.path.join(data_path,'gis/selectie_pilot.shp'))\n",
    "\n",
    "# Branches\n",
    "hydamo.branches.read_gml(os.path.join(data_path,'gml/hydroobject.gml'), index_col='code', clip=hydamo.clipgeo)\n",
    "hydamo.branches['ruwheidstypecode'] = 4\n",
    "\n",
    "# read from GML\n",
    "hydamo.crosssections.read_gml(os.path.join(data_path,data_path,'gml/dwarsprofiel.gml') , \n",
    "                              column_mapping={'ruwheidswaardelaag':'ruwheidswaarde'} ,\n",
    "                              index_col='profielcode' ,\n",
    "                              groupby_column='profielcode' , \n",
    "                              order_column='codevolgnummer')\n",
    "\n",
    "hydamo.crosssections.snap_to_branch(hydamo.branches, snap_method='intersecting')\n",
    "hydamo.crosssections.dropna(axis=0, inplace=True, subset=['branch_offset'])\n",
    "hydamo.crosssections.drop('code', axis=1, inplace=True)\n",
    "hydamo.crosssections.rename(columns={'profielcode': 'code'}, inplace=True)\n",
    "\n",
    "hydamo.parametrised_profiles.read_gml(os.path.join(data_path,'gml/NormGeparametriseerdProfiel.gml'), column_mapping={'ruwheidswaardelaag': 'ruwheidswaarde'})\n",
    "hydamo.parametrised_profiles.snap_to_branch(hydamo.branches, snap_method='intersecting')\n",
    "hydamo.parametrised_profiles.dropna(axis=0, inplace=True, subset=['branch_offset'])\n",
    "\n",
    "# # Bridges\n",
    "hydamo.bridges.read_gml(os.path.join(data_path,'gml/brug.gml'))\n",
    "hydamo.bridges.snap_to_branch(hydamo.branches, snap_method='overal', maxdist=5)\n",
    "hydamo.bridges.dropna(axis=0, inplace=True, subset=['branch_offset'])\n",
    "\n",
    "# # Culverts\n",
    "hydamo.culverts.read_gml(\n",
    "   os.path.join(data_path,'gml/duikersifonhevel.gml'),\n",
    "   index_col='code',\n",
    "   column_mapping={'vormkoker': 'vormcode'},\n",
    "   clip=hydamo.clipgeo\n",
    ")\n",
    "hydamo.culverts.snap_to_branch(hydamo.branches, snap_method='ends', maxdist=5)\n",
    "hydamo.culverts.dropna(axis=0, inplace=True, subset=['branch_offset'])\n",
    "duikers_rekentijd = ['RS372-KDU3','RS375-KDU2','RS373-KDU7','RS373-KDU20','RS373-KDU22','RS373-KDU19']\n",
    "duikers_gemalen = ['OWL32921-KDU3','RS375-KDU6']             \n",
    "hydamo.culverts.drop(duikers_rekentijd, axis=0, inplace=True)\n",
    "hydamo.culverts.drop(duikers_gemalen, axis=0, inplace=True)\n",
    "\n",
    "# Weirs (including universal weirs)\n",
    "hydamo.weirs.read_gml(os.path.join(data_path,'gml/stuw.gml'))\n",
    "hydamo.weirs.snap_to_branch(hydamo.branches, snap_method='overal', maxdist=10)\n",
    "hydamo.weirs.dropna(axis=0, inplace=True, subset=['branch_offset'])\n",
    "\n",
    "# Orifices\n",
    "hydamo.orifices.read_gml(os.path.join(data_path,'gml/onderspuier.gml'))\n",
    "hydamo.orifices.snap_to_branch(hydamo.branches, snap_method='overal', maxdist=2)\n",
    "hydamo.orifices.dropna(axis=0, inplace=True, subset=['branch_offset'])\n",
    "\n",
    "# Closing devices / terugslagkleppen e.d.\n",
    "hydamo.afsluitmiddel.read_gml(os.path.join(data_path,'gml/afsluitmiddel.gml'), index_col='code')\n",
    "\n",
    "# Laterals (imported from shapefile)\n",
    "hydamo.laterals.read_shp(os.path.join(data_path,'sobekdata/Sbk_S3BR_n.shp'), \n",
    "                         column_mapping={'ID        ': 'code', \n",
    "                                         'NAME      ': 'name',\n",
    "                                         'X         ':'X',\n",
    "                                         'Y         ':'Y'})\n",
    "hydamo.laterals.snap_to_branch(hydamo.branches, snap_method='overal', maxdist=  500)\n",
    "hydamo.laterals.dropna(axis=0, inplace=True, subset=['branch_offset'])\n",
    "\n",
    "# Pumps\n",
    "hydamo.gemalen.read_gml(os.path.join(data_path,'gml/gemaal.gml'), index_col='code', clip=hydamo.clipgeo)\n",
    "hydamo.pumps.read_gml(os.path.join(data_path,'gml/pomp.gml'), index_col='code', clip=hydamo.clipgeo)\n",
    "hydamo.pumps.snap_to_branch(hydamo.branches, snap_method='overal', maxdist=5)\n",
    "hydamo.pumps['maximalecapaciteit'] *= 60\n",
    "hydamo.sturing.read_gml(os.path.join(data_path,'gml/sturing.gml'), index_col='code')\n"
   ]
  },
  {
   "cell_type": "markdown",
   "metadata": {},
   "source": [
    "Plot the model with branches, cross sections and structures. Note that compound structures are not plotted here as they do not have a geometry on their own; they are composed from their sub-structures that do have a geometry and are plotted here."
   ]
  },
  {
   "cell_type": "code",
   "execution_count": null,
   "metadata": {},
   "outputs": [],
   "source": [
    "plt.rcParams['axes.edgecolor'] = 'w'\n",
    "\n",
    "fig, ax = plt.subplots(figsize=(10, 10))\n",
    "\n",
    "ax.fill(*hydamo.clipgeo.exterior.xy, color='w', alpha=0.5)\n",
    "ax.xaxis.set_visible(False)\n",
    "ax.yaxis.set_visible(False)\n",
    "ax.set_xlim(139600, 142400)\n",
    "ax.set_ylim(391700, 395600)\n",
    "\n",
    "achtergrond = plt.imread(os.path.join(data_path,'gis/achtergrond.png'))\n",
    "ax.imshow(achtergrond, extent=(139517.12, 142957.76, 391606.8, 395907.6), interpolation='lanczos')\n",
    "\n",
    "hydamo.branches.plot(ax=ax, label='Channel')\n",
    "hydamo.crosssections.plot(ax=ax, color='C3', label='Cross section')\n",
    "hydamo.culverts.centroid.plot(ax=ax, color='darkgreen', label='Culvert', markersize=20, zorder=10)\n",
    "hydamo.weirs.centroid.plot(ax=ax, color='C1', label='Weir', markersize=25, zorder=10)\n",
    "hydamo.bridges.plot(ax=ax,color='red',label='Bridge',markersize=20,zorder=10)\n",
    "hydamo.orifices.plot(ax=ax,color='black',label='Orifice',markersize=20,zorder=10)\n",
    "hydamo.pumps.plot(\n",
    "    ax=ax, color='C4', label='Pump', marker='s', markersize=125, zorder=10, facecolor='none', linewidth=2.5)\n",
    "\n",
    "ax.legend()\n",
    "\n",
    "fig.tight_layout()"
   ]
  },
  {
   "cell_type": "markdown",
   "metadata": {},
   "source": [
    "### Generate the D-HYDRO FM schematisation"
   ]
  },
  {
   "cell_type": "markdown",
   "metadata": {},
   "source": [
    "#### Create the 1D network"
   ]
  },
  {
   "cell_type": "markdown",
   "metadata": {},
   "source": [
    "Convert the geometries to D-HYDRO schematisation:\n",
    "\n",
    "Start with importing the structures (from HyDAMO in this case), since the position of the structure can be used in defining the position of the 1d nodes. \n",
    "\n",
    "Structures can also be added without the HyDAMO imports. One weir is added manually, but this can be done for all implemented structures.\n",
    "\n",
    "Note that for importing most structures multiple gml-files are needed. For more info on how to add structures (directly or from HyDAMO), see: https://hkvconfluence.atlassian.net/wiki/spaces/DHYD/overview.\n",
    "\n",
    " - for weirs, a corresponding profile is looked up in the crossections. If one is found (either a YZ or a parametrised profile) the weir is implemented as a universal weir. If it is not found, a regular (rectangular) weir will be used. The cross-section should contain a 'codegeralateerdobject' containing the ID of the universal weir.\n",
    " - culverts can also use an 'afsluitmiddel'; if one is coupled for a specific culvert and its type is 5 (terugslagklep) the flow direction is set 'positive' instead of 'both'. If the type is 4 (schuif), a valve will be implemented.\n",
    " - bridges need an associated crosssection (through the field 'codegerelateerdobject' in the cross-section); this can be either 'YZ' or 'parametrised'. The profiles are then processed so a suitable cross-section for a bridge is created;\n",
    " - pumps are composed from 'gemalen', 'pompen' and 'sturing'.\n",
    "\n",
    "In most cases, these 'extra' arguments are optional, i.e. they are not required and can be left out. Some are required:\n",
    "- pumps really need all 3 objects (gemalen, pompen en sturing);\n",
    "- bridges really need a profile (either 'crosssections' or 'parametrised_profiles' needs to contain a field 'codegerelateerdobject' that points to each bridge).\n",
    "\n",
    "For more info on the structure definitions one is referred to the D-Flow FM user manual: https://content.oss.deltares.nl/delft3d/manuals/D-Flow_FM_User_Manual.pdf.\n",
    "\n",
    "Note that orifices do not yet have an appropriate/definitive definition in HYDAMO. To be able to use it, we now use a separate GML-definition ('onderspuier\") but possibly this will be integrated in the definition for weirs. To be continued.\n"
   ]
  },
  {
   "cell_type": "code",
   "execution_count": null,
   "metadata": {},
   "outputs": [],
   "source": [
    "dfmmodel = DFlowFMModel()\n",
    "\n",
    "# Collect structures\n",
    "dfmmodel.structures.io.weirs_from_hydamo(hydamo.weirs, yz_profiles=hydamo.crosssections, parametrised_profiles=hydamo.parametrised_profiles)\n",
    "dfmmodel.structures.io.culverts_from_hydamo(hydamo.culverts, hydamo.afsluitmiddel)\n",
    "dfmmodel.structures.io.bridges_from_hydamo(hydamo.bridges, yz_profiles=hydamo.crosssections, parametrised_profiles=hydamo.parametrised_profiles)\n",
    "dfmmodel.structures.io.orifices_from_hydamo(hydamo.orifices)\n",
    "dfmmodel.structures.io.pumps_from_hydamo(pompen=hydamo.pumps, sturing=hydamo.sturing, gemalen=hydamo.gemalen)\n",
    "\n",
    "# Add a weir manually (equivalent functions exist for all structures):\n",
    "dfmmodel.structures.add_weir(\n",
    "    id='extra_weir',\n",
    "    branchid='riv_RS1_1810',\n",
    "    chainage=950.0,\n",
    "    crestlevel=8.00,\n",
    "    crestwidth=7.5,\n",
    "    corrcoeff=1.0    \n",
    ")\n"
   ]
  },
  {
   "cell_type": "markdown",
   "metadata": {},
   "source": [
    "For some structures it is possible to set a time series on their controls. Currently these are:\n",
    "- for weirs, the crestlevel\n",
    "- for orifices, the lower edge level of the gate\n",
    "- for culverts, the valve opening height.\n",
    "\n",
    "IN D-HYDRO, the associated parameter names are, respectively, 'weir_crestLevel', 'orifice_gateLowerEdgeLevel' and 'culvert_valveOpeningHeight', but for the converter it is sufficient to use only part of these names, for example 'crest' (or crestlevel), 'gate' , or 'valve'. It is case insensitive and the full names is then implemented in D-HYDRO input.\n",
    "\n",
    "The time series should be provided as a pandas series, with timesteps as indices.\n",
    "\n",
    "Structure types should be 'weir', 'orifice' or 'culvert'; other structures are not supported yet."
   ]
  },
  {
   "cell_type": "code",
   "execution_count": null,
   "metadata": {},
   "outputs": [],
   "source": [
    "#  test crestLevel time series for weir Weir_RS373-st1\n",
    "cl = pd.read_csv(data_path+'/sobekdata/crestlevel_weir_RS373-st1.csv', sep=';', index_col=0)\n",
    "cl.index = pd.to_datetime(cl.index)\n",
    "dfmmodel.external_forcings.set_structure_series('Weir_RS373-st1', 'weir','crest',cl)"
   ]
  },
  {
   "cell_type": "code",
   "execution_count": null,
   "metadata": {},
   "outputs": [],
   "source": [
    "fig, ax = plt.subplots()\n",
    "ax.plot(\n",
    "    dfmmodel.external_forcings.structures.loc['Weir_RS373-st1']['time'],\n",
    "    dfmmodel.external_forcings.structures.loc['Weir_RS373-st1']['value'],\n",
    "    label='Crest level [m+NAP]'\n",
    ")\n",
    "ax.set_ylabel('Crest level [m+NAP]')\n",
    "ax.set_xlabel('Time [minutes since start]')"
   ]
  },
  {
   "cell_type": "markdown",
   "metadata": {},
   "source": [
    "Compound structures are composed of other structures and will not be implemented as such in HyDAMO. D-Flow FM simply needs an ID for every compound structure and a list of structures it should be composed of. They should have the same location - so the converter snaps coordinates of subsequent sub-structures in a compound to the coordinates of the first sub-structure in the list.\n",
    "\n",
    "To use, provide a list of ID's of compound structures, and along with, for every compound structure, a nested list of sub-structures. If there are many, these can be read from files (for example)."
   ]
  },
  {
   "cell_type": "code",
   "execution_count": null,
   "metadata": {},
   "outputs": [],
   "source": [
    "cmpnd_ids  = ['cmpnd_1']\n",
    "cmpnd_list = [['Orifice_Test1','UWeir_Test2']]\n",
    "dfmmodel.structures.io.compound_structures(cmpnd_ids, cmpnd_list)"
   ]
  },
  {
   "cell_type": "markdown",
   "metadata": {},
   "source": [
    "After this add the branches and generate a grid."
   ]
  },
  {
   "cell_type": "code",
   "execution_count": null,
   "metadata": {},
   "outputs": [],
   "source": [
    "# Create a 1D schematisation\n",
    "dfmmodel.network.set_branches(hydamo.branches)\n",
    "dfmmodel.network.generate_1dnetwork(one_d_mesh_distance=40.0, seperate_structures=True)"
   ]
  },
  {
   "cell_type": "markdown",
   "metadata": {},
   "source": [
    "Add cross sections. Here two hydamo files are used. First the imported cross sections. If after this there are branch objects left without a cross sections, it is derived from the norm parametrised profile (Dutch: legger)."
   ]
  },
  {
   "cell_type": "code",
   "execution_count": null,
   "metadata": {},
   "outputs": [],
   "source": [
    "# Add cross sections from hydamo\n",
    "dfmmodel.crosssections.io.from_hydamo(\n",
    "    dwarsprofielen=hydamo.crosssections,\n",
    "    parametrised=hydamo.parametrised_profiles,\n",
    "    branches=hydamo.branches\n",
    ")\n",
    "\n",
    "print(f'{len(dfmmodel.crosssections.get_branches_without_crosssection())} branches are still missing a cross section.')\n",
    "print(f'{len(dfmmodel.crosssections.get_structures_without_crosssection())} structures are still missing a cross section.')"
   ]
  },
  {
   "cell_type": "markdown",
   "metadata": {},
   "source": [
    "If there are still missing cross sections left, add a default one. To do so add a cross section definition, and assign it with a vertical offset (shift)."
   ]
  },
  {
   "cell_type": "code",
   "execution_count": null,
   "metadata": {},
   "outputs": [],
   "source": [
    "# Set a default cross section\n",
    "default = dfmmodel.crosssections.add_rectangle_definition(\n",
    "    height=5.0, width=5.0, closed=False, roughnesstype='Strickler', roughnessvalue=30)\n",
    "dfmmodel.crosssections.set_default_definition(definition=default, shift=8.0)"
   ]
  },
  {
   "cell_type": "markdown",
   "metadata": {},
   "source": [
    "#### Add a 2D mesh"
   ]
  },
  {
   "cell_type": "markdown",
   "metadata": {},
   "source": [
    "To add a mesh, currently 2 options exist:"
   ]
  },
  {
   "cell_type": "markdown",
   "metadata": {},
   "source": [
    "1) the converter can generate a relatively simple, rectangular mesh, with a rotation or refinement. Note that rotation _and_ refinement is currently not possible. In the section below we generate a refined 2D mesh with the following steps:\n",
    "\n",
    "- Generate grid within a polygon. The polygon is the extent given to the HyDAMO model.\n",
    "- Refine along the main branch\n",
    "- Determine altitude from a DEM.\n",
    "\n",
    "The 'refine'-method requires the dflowfm.exe executable. If this is not added to the system path, it can be provided in an optional argument to refine (dflowfm_path)."
   ]
  },
  {
   "cell_type": "code",
   "execution_count": null,
   "metadata": {},
   "outputs": [],
   "source": [
    "# Create mesh object\n",
    "mesh = Rectangular()\n",
    "cellsize = 25\n",
    "\n",
    "# Generate mesh within model bounds\n",
    "mesh.generate_within_polygon(hydamo.clipgeo, cellsize=cellsize, rotation=0)\n",
    "\n",
    "# Refine the model (2 steps) along the main branch. To do so we generate a buffer around the main branch.\n",
    "buffered_branch = hydamo.branches.loc[['riv_RS1_1810', 'riv_RS1_264'], 'geometry'].unary_union.buffer(10)\n",
    "mesh.refine(polygon=[buffered_branch], level=[2], cellsize=cellsize, dflowfm_path=dflowfm_path)\n",
    "\n",
    "# Determine the altitude from a digital elevation model\n",
    "rasterpath = os.path.join(data_path,'rasters/dommel_25m.tif')\n",
    "mesh.altitude_from_raster(rasterpath)\n",
    "\n",
    "# The full DEM is not added to this notebook. Instead a constant bed level is used\n",
    "# mesh.altitude_constant(15.0)\n",
    "\n",
    "# Add to schematisation\n",
    "dfmmodel.network.add_mesh2d(mesh)"
   ]
  },
  {
   "cell_type": "markdown",
   "metadata": {},
   "source": [
    "2) a more complex mesh can be created in other software (such as SMS) and then imported in the converter: (uncomment to activate)"
   ]
  },
  {
   "cell_type": "code",
   "execution_count": null,
   "metadata": {},
   "outputs": [],
   "source": [
    "#from dhydamo.core.mesh2d import Mesh2D\n",
    "#mesh = Mesh2D()\n",
    "# import the geometry\n",
    "#mesh.geom_from_netcdf(r'T:\\2Hugo\\Grid_Roer_net.nc')\n",
    "# fill every cell with an elevation value\n",
    "#mesh.altitude_from_raster(rasterpath)\n",
    "# and add to the model\n",
    "#dfmmodel.network.add_mesh2d(mesh)"
   ]
  },
  {
   "cell_type": "markdown",
   "metadata": {},
   "source": [
    "#### Add the 1D-2D links"
   ]
  },
  {
   "cell_type": "markdown",
   "metadata": {},
   "source": [
    "For linking the 1D and 2D model, three options are available:\n",
    "1. Generating links from each 1d node to the nearest 2d node.\n",
    "2. Generating links from each 2d node to the nearest 1d node (intersecting==True)\n",
    "3. Generating links from each 2d node to the nearest 1d node, while not allowing the links to intersect other cells (intersecting==False).\n",
    "\n",
    "Intersecting indicates whether or not the 2D cells cross the 1D network (lateral versus embedded links).\n",
    "So, option 3 is relevant when there is no 2d mesh on top of the 1d mesh: the lateral links.\n",
    "\n",
    "Note that for each option a maximum link length can be chosen, to prevent creating long (and perhaps unrealistic) links."
   ]
  },
  {
   "cell_type": "code",
   "execution_count": null,
   "metadata": {},
   "outputs": [],
   "source": [
    "del dfmmodel.network.links1d2d.faces2d[:]\n",
    "del dfmmodel.network.links1d2d.nodes1d[:]\n",
    "dfmmodel.network.links1d2d.generate_1d_to_2d(max_distance=50)"
   ]
  },
  {
   "cell_type": "code",
   "execution_count": null,
   "metadata": {},
   "outputs": [],
   "source": [
    "dfmmodel.network.links1d2d.generate_2d_to_1d(max_distance=50, intersecting=False)"
   ]
  },
  {
   "cell_type": "code",
   "execution_count": null,
   "metadata": {},
   "outputs": [],
   "source": [
    "fig, ax = plt.subplots(figsize=(13, 10))\n",
    "ax.set_aspect(1.0)\n",
    "\n",
    "segments = dfmmodel.network.mesh2d.get_segments()\n",
    "ax.add_collection(LineCollection(segments, color='0.3', linewidths=0.5, label='2D-mesh'))\n",
    "\n",
    "links = dfmmodel.network.links1d2d.get_1d2dlinks()\n",
    "ax.add_collection(LineCollection(links, color='k', linewidths=0.5))\n",
    "ax.plot(links[:, :, 0].ravel(), links[:, :, 1].ravel(), color='k', marker='.', ls='', label='1D2D-links')\n",
    "\n",
    "for i, p in enumerate([buffered_branch]):\n",
    "    ax.plot(*p.exterior.xy, color='C3', lw=1.5, zorder=10, alpha=0.8, label='Refinement buffer' if i==0 else None)\n",
    "\n",
    "hydamo.branches.plot(ax=ax, color='C0', lw=2.5, alpha=0.8, label='1D-mesh')\n",
    "\n",
    "ax.legend()\n",
    "\n",
    "ax.set_xlim(140900, 141300)\n",
    "ax.set_ylim(393400, 393750);"
   ]
  },
  {
   "cell_type": "markdown",
   "metadata": {},
   "source": [
    "### Boundary conditions for FM\n",
    "\n",
    "Add boundary conditions to external forcings from a SOBEK time series."
   ]
  },
  {
   "cell_type": "code",
   "execution_count": null,
   "metadata": {},
   "outputs": [],
   "source": [
    "bcs = pd.read_csv(os.path.join(data_path,'sobekdata/boundaryconditions.csv'), sep=';', index_col=0)\n",
    "bcs.index = pd.to_datetime(bcs.index)"
   ]
  },
  {
   "cell_type": "code",
   "execution_count": null,
   "metadata": {},
   "outputs": [],
   "source": [
    "dfmmodel.external_forcings.add_boundary_condition(\n",
    "    name='BC_flow_in',\n",
    "    pt=(140712.056047, 391893.277878),\n",
    "    bctype='discharge',\n",
    "    series=bcs['Discharge']\n",
    ")\n",
    "\n",
    "dfmmodel.external_forcings.add_boundary_condition(\n",
    "    name='BC_wlev_down',\n",
    "    pt=(141133.788766, 395441.748424),\n",
    "    bctype='waterlevel',\n",
    "    series=bcs['Waterlevel']\n",
    ")"
   ]
  },
  {
   "cell_type": "code",
   "execution_count": null,
   "metadata": {},
   "outputs": [],
   "source": [
    "fig, ax = plt.subplots()\n",
    "\n",
    "ax.plot(\n",
    "    dfmmodel.external_forcings.boundaries['BC_flow_in']['time'],\n",
    "    dfmmodel.external_forcings.boundaries['BC_flow_in']['value'],\n",
    "    label='Discharge [m3/s]'\n",
    ")\n",
    "\n",
    "ax.plot(\n",
    "    dfmmodel.external_forcings.boundaries['BC_wlev_down']['time'],\n",
    "    dfmmodel.external_forcings.boundaries['BC_wlev_down']['value'],\n",
    "    label='Water level [m+NAP]'\n",
    ")\n",
    "\n",
    "ax.set_ylabel('Value (discharge or waterlevel)')\n",
    "ax.set_xlabel('Time [minutes]')\n",
    "\n",
    "ax.legend();"
   ]
  },
  {
   "cell_type": "markdown",
   "metadata": {},
   "source": [
    "### Initial conditions"
   ]
  },
  {
   "cell_type": "markdown",
   "metadata": {},
   "source": [
    "There are four ways to set the initial conditions. First, global water level or depth can be set. In the example, we use a global water depth of 0.5 m, but we could also use the equivalent function \"set_initial_waterlevel\"."
   ]
  },
  {
   "cell_type": "code",
   "execution_count": null,
   "metadata": {},
   "outputs": [],
   "source": [
    "# Initial water depth is set to 0.5 m\n",
    "dfmmodel.external_forcings.set_initial_waterdepth(0.5)"
   ]
  },
  {
   "cell_type": "markdown",
   "metadata": {},
   "source": [
    "It is also possible to define a certain area, using a polygon, with alternative initial conditions (level or depth)."
   ]
  },
  {
   "cell_type": "code",
   "execution_count": null,
   "metadata": {},
   "outputs": [],
   "source": [
    "#init_special = gpd.read_file(data_path+'/GIS/init_waterlevel_special.shp')\n",
    "#dfmmodel.external_forcings.set_initial_waterlevel(10.0, polygon=init_special.geometry[0], name='test_polygon',locationtype='2d')"
   ]
  },
  {
   "cell_type": "markdown",
   "metadata": {},
   "source": [
    "### Lateral flow"
   ]
  },
  {
   "cell_type": "markdown",
   "metadata": {},
   "source": [
    "Lateral flow can be obtained from the coupling with the RR-model, or by providing time series. Here, these are read from a Sobek model. In the coupling below, nodes that are not linked to a RR-boundary node are assumed to have a prescribed time series.\n",
    "\n",
    "If a DFM-model is run offline, timeseries should be provided for all laterals."
   ]
  },
  {
   "cell_type": "code",
   "execution_count": null,
   "metadata": {},
   "outputs": [],
   "source": [
    "###For adding the lateral inflow we import SOBEK results. To do so we use hkvsobekpy. For more info on this module, see: https://github.com/HKV-products-services/hkvsobekpy\n",
    "# # Add the lateral inflows also from the SOBEK results. Naote that the column names in the his-file need to match\n",
    "# # the id's of the imported lateral locations at the top of this notebook.\n",
    "rehis = hkvsobekpy.read_his.ReadMetadata(os.path.join(data_path,'sobekdata/QLAT.HIS'), hia_file='auto')\n",
    "param = [p for p in rehis.GetParameters() if 'disch' in p][0]\n",
    "lateral_discharge = rehis.DataFrame().loc[:, param]\n",
    "lateral_discharge.drop('lat_986', inplace=True, axis=1)"
   ]
  },
  {
   "cell_type": "markdown",
   "metadata": {},
   "source": [
    "### Observation points"
   ]
  },
  {
   "cell_type": "markdown",
   "metadata": {},
   "source": [
    "Observation points are now written in the new format, where once can discriminate between 1D ('1d') and 2D ('2d') observation points. This can be done using the optional argument 'locationTypes'. If it is omitted, all points are assumed to be 1d. 1D-points are always snapped to a the nearest branch. 2D-observation points are always defined by their X/Y-coordinates.\n",
    "\n",
    "Note: add_points can be called only once: once dfmodel.observation_points is filled,the add_points-method is not available anymore. Observation point coordinates can be definied eiher as an (x,y)-tuple or as a shapely Point-object."
   ]
  },
  {
   "cell_type": "code",
   "execution_count": null,
   "metadata": {},
   "outputs": [],
   "source": [
    "from shapely.geometry import Point\n",
    "dfmmodel.observation_points.add_points([Point((141150, 393700)),(141155, 393705)],['ObsPt1','ObsPt2'], locationTypes=['1d','1d'])"
   ]
  },
  {
   "cell_type": "markdown",
   "metadata": {},
   "source": [
    "### Generating the RR-model"
   ]
  },
  {
   "cell_type": "markdown",
   "metadata": {},
   "source": [
    "Catchments are provided as HyDAMO files and are read similarly as the FM files are. They can be GML or shape files. Note that in case of shapefiles column mapping is necessary because the column names are truncated. Required columns include 'code' as the ID and 'lateraleknoopcode' as the associated FM boundary node ID. \n",
    "\n",
    "Note that when catchments have a \"MultiPolygon' geometry, the multipolygons are 'exploded' into single polygon geometries. A warning of this is isued, and a suffix is added to every polygons ID to prevent duplicates. This is the case for both GML and SHP input.\n",
    "\n",
    "For every catchment, the land use areas will be calculated and if appopriate a maximum of four RR-nodes will be created per catchment:\n",
    " - unpaved (based on the Ernst concept)\n",
    " - paved \n",
    " - greenhouse\n",
    " - open water (not the full Sobek2 open water, but only used to transfer (net) precipitation that falls on open water that is schematized in RR to the 1D/2D network.\n",
    " \n",
    "At the moment, two options exist for the schematisation of the paved area:\n",
    " 1) simple: the paved fraction of each catchment is modelled with a paved node, directly connected to catchments' boundary node\n",
    " <br>\n",
    " 2) more complex: serer area polygons and overflow points are used a input as well. For each sewer area, the paved areas in the intersecting catchments are summed. This total area is then distributed over the overflows that are associated with the sewerarea (the column 'lateraleknoopcode') using the area fraction (column 'fractie') for each overflow. In each cathment, paved area that does not intersect with a sewer area gets an unpaved node as in option (1)."
   ]
  },
  {
   "cell_type": "code",
   "execution_count": null,
   "metadata": {},
   "outputs": [],
   "source": [
    "# RR-catchments\n",
    "hydamo.catchments.read_shp(os.path.join(data_path,'gml/afvoergebied_2.shp'), index_col='code', \n",
    "                           clip=None, column_mapping={'lateralekn' : 'lateraleknoopcode', 'administra':'administratiefgebied'})"
   ]
  },
  {
   "cell_type": "markdown",
   "metadata": {},
   "source": [
    "Optionally, read also sewer areas and overflow locations. If sewer-areas are used, there must also be overflows and vice versa."
   ]
  },
  {
   "cell_type": "code",
   "execution_count": null,
   "metadata": {},
   "outputs": [],
   "source": [
    "hydamo.sewer_areas.read_shp(os.path.join(data_path,'gml/rioleringsgebieden.shp'), index_col='code',clip=None, check_geotype=False)\n",
    "\n",
    "hydamo.overflows.read_shp(os.path.join(data_path,'gml/overstorten.shp'), index_col='code', clip=None,           column_mapping={'codegerel':'codegerelateerdobject', 'Naam':'name' })\n",
    "# snap the overflows to 1D branches\n",
    "hydamo.overflows.snap_to_branch(hydamo.branches, snap_method='overal', maxdist= 5)\n"
   ]
  },
  {
   "cell_type": "markdown",
   "metadata": {},
   "source": [
    "Other input data for RR can be fed by rasters (from which zonal statistics will be extracted) or spatially uniform default values. Three rasters are required: land use, soil type and surface elevation. For each land use type, the area within each catchment is calculated. Surface level is calculated as the median within the catchment, and the most-occurring soil type is used. In all rasters, a NODATA-value of -999 should be used."
   ]
  },
  {
   "cell_type": "markdown",
   "metadata": {},
   "source": [
    "An RR-model must first be initialized:"
   ]
  },
  {
   "cell_type": "code",
   "execution_count": null,
   "metadata": {},
   "outputs": [],
   "source": [
    "drrmodel = DFlowRRModel()"
   ]
  },
  {
   "cell_type": "markdown",
   "metadata": {},
   "source": [
    "#### Unpaved nodes"
   ]
  },
  {
   "cell_type": "markdown",
   "metadata": {},
   "source": [
    "The coding for the land use types needs to be as follows:<br>\n",
    " 1 potatoes  <br>\n",
    " 2 wheat<br>\n",
    " 3 sugar beet<br> \n",
    " 4 corn       <br> \n",
    " 5 other crops <br> \n",
    " 6 bulbous plants<br> \n",
    " 7 orchard<br>\n",
    " 8 grass  <br>\n",
    " 9 deciduous forest  <br>\n",
    "10 coniferous forest<br>\n",
    "11 nature<br>\n",
    "12 barren<br>\n",
    "13 open water<br>\n",
    "14 built-up<br>\n",
    "15 greenhouses<br>\n",
    "\n",
    "For classes 1-12, the areas are calculated from the provided raster and remapped to the classification in the Sobek RR-tables.\n",
    "\n",
    "\n",
    "The coding for the soil types:<br>\n",
    "1 'Veengrond met veraarde bovengrond'<br>\n",
    " 2 'Veengrond met veraarde bovengrond, zand'<br>\n",
    " 3 'Veengrond met kleidek'<br>\n",
    " 4 'Veengrond met kleidek op zand'<br>\n",
    " 5 'Veengrond met zanddek op zand'<br>\n",
    " 6 'Veengrond op ongerijpte klei'<br>\n",
    " 7 'Stuifzand'<br>\n",
    " 8 'Podzol (Leemarm, fijn zand)'<br>\n",
    " 9 'Podzol (zwak lemig, fijn zand)'<br>\n",
    "10 'Podzol (zwak lemig, fijn zand op grof zand)'<br>\n",
    "11 'Podzol (lemig keileem)'<br>\n",
    "12 'Enkeerd (zwak lemig, fijn zand)'<br>\n",
    "13 'Beekeerd (lemig fijn zand)'<br>\n",
    "14 'Podzol (grof zand)'<br>\n",
    "15 'Zavel'<br>\n",
    "16 'Lichte klei'<br>\n",
    "17 'Zware klei'<br>\n",
    "18 'Klei op veen'<br>\n",
    "19 'Klei op zand'<br>\n",
    "20 'Klei op grof zand'<br>\n",
    "21 'Leem'<br>\n",
    "\n",
    "\n",
    "And surface elevation needs to be in m+NAP."
   ]
  },
  {
   "cell_type": "code",
   "execution_count": null,
   "metadata": {},
   "outputs": [],
   "source": [
    "# all data and settings to create the RR-model\n",
    "lu_file = os.path.join(data_path,'rasters/lgn250_greenhouse.tif')\n",
    "ahn_file = os.path.join(data_path,'rasters/ahn_250.tif')\n",
    "soil_file = os.path.join(data_path,'rasters/soiltypes250.tif')"
   ]
  },
  {
   "cell_type": "markdown",
   "metadata": {},
   "source": [
    "Other parameters can be set by rasters (i.e. spatially distributed) or uniform. If a number is provided, the module will use this number for all catchments, if a string is provided it is interpreted as a raster file name. For unpaved nodes, these parameters are the storage on the surface, the infiltration capacity, and the initial ground water depth (in m below the surface). The parametrisation for Ernst is taken from a list of layer depths, where each depth is assigned the corresponding resistance from the list of layer_resistances. They need to be of equal length. The resistance value for flow from open water back to unpaved (infil_resistance) and the resistance for surface runoff (runoff_resistance) can also be determined here, but they are optional: if omitted, default values of 300 d-1 (cvi) and 1 d-1 (cvs) are adopted."
   ]
  },
  {
   "cell_type": "code",
   "execution_count": null,
   "metadata": {},
   "outputs": [],
   "source": [
    "surface_storage = 10.0\n",
    "infiltration_capacity = 100.0\n",
    "initial_gwd = 0.4\n",
    "\n",
    "runoff_resistance = 1.\n",
    "infil_resistance = 300.\n",
    "layer_depths = [0.0, 1.0, 2.0]\n",
    "layer_resistances = [30,200,10000]"
   ]
  },
  {
   "cell_type": "markdown",
   "metadata": {},
   "source": [
    "Fill the unpaved node with the corresponding ernst definition as follows. \n",
    "\n",
    "The argument 'meteo_areas' to 'unpaved_from_input' contains the polygons that correspond to a meteo-station: here these are identical to each catchment so each catchment gets its own station.  If there are many, small, catchments, it might be more appropriate to use, for instance, Thiessen polygons around gauges. For each catchment, the meteo-station is based on the 'meteo-area;-feature in which the centroid of the catchment falls.\n",
    "\n",
    "The argument 'zonalstats_alltouched' is rather important. It defines the number of cells in the input rasters that are taken into account for each catchment. If the raster resolution is sufficiently high, its setting does not matter. In the case of coarse rasters, small catchments might end up with no nodes at all if the 'zonalstats_alltouched' is FALSE - it says that only cells of which the centoids are inside the polygon are taken into account. If it is TRUE, all cells that are touched by the catchment geometry are taken into account - i.e. some pixels might be counted multiple times. Note that to define average fluxes (meteo, seepage, storages) zonalstats_alltouched is TRUE by default. For elevation, land use and soil types it is FALSE by default, if the argument is omitted."
   ]
  },
  {
   "cell_type": "code",
   "execution_count": null,
   "metadata": {},
   "outputs": [],
   "source": [
    "meteo_areas = hydamo.catchments"
   ]
  },
  {
   "cell_type": "code",
   "execution_count": null,
   "metadata": {},
   "outputs": [],
   "source": [
    "drrmodel.unpaved.io.unpaved_from_input(hydamo.catchments, lu_file, ahn_file, soil_file, surface_storage, infiltration_capacity, initial_gwd, meteo_areas, zonalstats_alltouched=True)\n",
    "drrmodel.unpaved.io.ernst_from_input(hydamo.catchments, depths=layer_depths, resistance=layer_resistances,infiltration_resistance=infil_resistance, runoff_resistance=runoff_resistance)\n",
    "# Or alternatively, to use default values of infiltration and runoff resistances:\n",
    "#drrmodel.unpaved.io.ernst_from_input(hydamo.catchments, depths=layer_depths, resistance=layer_resistances)"
   ]
  },
  {
   "cell_type": "code",
   "execution_count": null,
   "metadata": {},
   "outputs": [],
   "source": [
    "hydamo.catchments.iloc[0].geometry.area"
   ]
  },
  {
   "cell_type": "markdown",
   "metadata": {},
   "source": [
    "#### Paved "
   ]
  },
  {
   "cell_type": "markdown",
   "metadata": {},
   "source": [
    "Input for the paved nodes are land use -the area of the paved node is the area of class '14' in the provided land use map- and surface elevation. In addition, the following parameters can all be numbers (spatially uniform) or raster filenames:\n",
    "- storage on the street (in mm)<br>\n",
    "- storage in the sewer system (in mm)<br>\n",
    "- capacity of the sewerpumps (in m3/s)<br>\n",
    "\n",
    "The meteo-station is assigned in the same way as for unpaved nodes."
   ]
  },
  {
   "cell_type": "code",
   "execution_count": null,
   "metadata": {},
   "outputs": [],
   "source": [
    "street_storage = 10.0\n",
    "sewer_storage =  os.path.join(data_path,'rasters/sewstor.tif')\n",
    "pumpcapacity =  os.path.join(data_path,'rasters/pumpcap.tif')\n"
   ]
  },
  {
   "cell_type": "markdown",
   "metadata": {},
   "source": [
    "To convert to a model definition, according to the more complex schematistion:"
   ]
  },
  {
   "cell_type": "code",
   "execution_count": null,
   "metadata": {},
   "outputs": [],
   "source": [
    "drrmodel.paved.io.paved_from_input(catchments=hydamo.catchments, \n",
    "                                    overflows=hydamo.overflows,\n",
    "                                    sewer_areas=hydamo.sewer_areas,                                   \n",
    "                                    landuse=lu_file, \n",
    "                                    surface_level=ahn_file,\n",
    "                                    street_storage=street_storage,\n",
    "                                    sewer_storage=sewer_storage,\n",
    "                                    pump_capacity=pumpcapacity, \n",
    "                                    meteo_areas=meteo_areas,\n",
    "                                    zonalstats_alltouched=True)"
   ]
  },
  {
   "cell_type": "markdown",
   "metadata": {},
   "source": [
    "Or, according to the simplest approach:"
   ]
  },
  {
   "cell_type": "code",
   "execution_count": null,
   "metadata": {},
   "outputs": [],
   "source": [
    "# drrmodel.paved.io.paved_from_input(catchments=hydamo.catchments, \n",
    "#                                    landuse=lu_file, \n",
    "#                                    surface_level=ahn_file,\n",
    "#                                    street_storage=street_storage,\n",
    "#                                    sewer_storage=sewer_storage,\n",
    "#                                    pump_capacity=pumpcapacity, \n",
    "#                                    meteo_areas=meteo_areas)"
   ]
  },
  {
   "cell_type": "markdown",
   "metadata": {},
   "source": [
    "#### Greenhouse nodes"
   ]
  },
  {
   "cell_type": "markdown",
   "metadata": {},
   "source": [
    "Input for the greenhouse nodes are (again) land use -the area of the paved node is the area of class '15' in the provided land use map- and surface elevation. In addition, the following parameter can be a number (spatially uniform) or a raster filename:\n",
    "- storage on the roof <br>\n",
    "\n",
    "The meteo-station is assigned in the same way as for unpaved nodes."
   ]
  },
  {
   "cell_type": "code",
   "execution_count": null,
   "metadata": {},
   "outputs": [],
   "source": [
    "roof_storage = os.path.join(data_path,'rasters/roofstor.tif')"
   ]
  },
  {
   "cell_type": "markdown",
   "metadata": {},
   "source": [
    "To convert to a model definition:"
   ]
  },
  {
   "cell_type": "code",
   "execution_count": null,
   "metadata": {},
   "outputs": [],
   "source": [
    "drrmodel.greenhouse.io.greenhouse_from_input(hydamo.catchments, lu_file, ahn_file, roof_storage, meteo_areas, zonalstats_alltouched=True)"
   ]
  },
  {
   "cell_type": "markdown",
   "metadata": {},
   "source": [
    "#### Open water"
   ]
  },
  {
   "cell_type": "markdown",
   "metadata": {},
   "source": [
    "Input for the open water nodes are only land use -the area of the paved node is the area of class '13' in the provided land use map. \n",
    "\n",
    "The meteo-station is assigned in the same way as for unpaved nodes."
   ]
  },
  {
   "cell_type": "code",
   "execution_count": null,
   "metadata": {},
   "outputs": [],
   "source": [
    "drrmodel.openwater.io.openwater_from_input(hydamo.catchments, lu_file, meteo_areas, zonalstats_alltouched=True)"
   ]
  },
  {
   "cell_type": "markdown",
   "metadata": {},
   "source": [
    "#### Boundary nodes"
   ]
  },
  {
   "cell_type": "markdown",
   "metadata": {},
   "source": [
    "Boundary nodes are assumed to be also included in the FM-model. For every catchment, the boundary identified by 'lateraleknoopocode' in the catchment definitition, is assumed to exist in the laterals. \n",
    "\n",
    "These nodes are created in the RR model with the same ID. 'drrmodel' is an argument because the function checks whether boundary nodes have a valid connection to anyo other node; other boundaries are removed. Overflows are optional and can be left out. If they are included, additional boundaries are created."
   ]
  },
  {
   "cell_type": "code",
   "execution_count": null,
   "metadata": {},
   "outputs": [],
   "source": [
    "drrmodel.external_forcings.io.boundary_from_input(hydamo.laterals, hydamo.catchments, drrmodel, overflows=hydamo.overflows)"
   ]
  },
  {
   "cell_type": "markdown",
   "metadata": {},
   "source": [
    "Coupling between RR and FM must be online (parallel), not sequential. RR reads waterlevels from FM laterals and FM gets discharges from lateral nodes of discharge type 'realtime'. In the call to the function, the overflow locations are appended to the regular lateral locations. For lateral nodes for which no rr_boundary (catchment or overflow) exists, a time series from lateral_discharge is used."
   ]
  },
  {
   "cell_type": "code",
   "execution_count": null,
   "metadata": {},
   "outputs": [],
   "source": [
    "dfmmodel.external_forcings.io.read_laterals(hydamo.laterals.append(hydamo.overflows), lateral_discharges=lateral_discharge, rr_boundaries=drrmodel.external_forcings.boundary_nodes)"
   ]
  },
  {
   "cell_type": "markdown",
   "metadata": {},
   "source": [
    "#### External forcings\n",
    "\n",
    "Three types of external forcing need to be provided:<br>\n",
    "- Seepage/drainage\n",
    "- Precipitation\n",
    "- Evaporation\n",
    "\n",
    "All are assumed to be spatially variable and thus need to pe provided as rasters per time step. Only the locations of the folders containing the rasters need to be provided; the time step is then derived from the file names.\n",
    "\n",
    "Precipitation and evaporation are assumed to be in mm/d. As for evaporation only one meteostation is used, the meteo_areas are dissolved. For seepage, as the use of Metaswap-rasters is allowed, the unit is assumed to m3/grid cell/timestep.\n",
    "\n",
    "Rastertypes can be any type that is recognized by rasterio (in any case Geotiff and ArcASCII rasters). If the file extension is 'IDF', as is the case in Modflow output, the raster is read using the 'imod'-package.\n",
    "\n",
    "IMPORTANT: time steps are extracted from the file names. Therefore, the names should cohere to some conditions:\n",
    "The filename should consist of at least two parts, separated by underscores. The second part needs to contain time information, which should be formatted as YYYYMMDDHHMMSS (SS may be omitted). Or, for daily data YYYYMMDD.\n",
    "\n",
    "For example: 'precip_20200605151500.tif'"
   ]
  },
  {
   "cell_type": "code",
   "execution_count": null,
   "metadata": {},
   "outputs": [],
   "source": [
    "seepage_folder =  os.path.join(data_path,'rasters/kwel')\n",
    "precip_folder =  os.path.join(data_path,'rasters/precip')\n",
    "evap_folder =  os.path.join(data_path,'rasters/evap')"
   ]
  },
  {
   "cell_type": "code",
   "execution_count": null,
   "metadata": {},
   "outputs": [],
   "source": [
    "drrmodel.external_forcings.io.seepage_from_input(hydamo.catchments, seepage_folder)\n",
    "drrmodel.external_forcings.io.precip_from_input(meteo_areas, precip_folder)\n",
    "drrmodel.external_forcings.io.evap_from_input(meteo_areas, evap_folder)"
   ]
  },
  {
   "cell_type": "markdown",
   "metadata": {},
   "source": [
    "We need a function to be able to easily plot all nodes and links"
   ]
  },
  {
   "cell_type": "code",
   "execution_count": null,
   "metadata": {},
   "outputs": [],
   "source": [
    "def node_geometry(dict):\n",
    "    # Function to put the node geometries in geodataframes\n",
    "    from shapely.geometry import Point\n",
    "    geoms = []  \n",
    "    links = []\n",
    "    for i in dict.items():\n",
    "        if 'ar' in i[1]:\n",
    "            if np.sum([float(s) for s in i[1]['ar'].split(' ')])>0:\n",
    "                geoms.append(Point((float(i[1]['px']),float(i[1]['py']))))           \n",
    "                links.append(LineString((Point(float(i[1]['px']),float(i[1]['py'])),\n",
    "                                        Point(float(drrmodel.external_forcings.boundary_nodes[i[1]['boundary_node']]['px']),\n",
    "                                              float(drrmodel.external_forcings.boundary_nodes[i[1]['boundary_node']]['py'])))))\n",
    "        else: \n",
    "            geoms.append(Point((float(i[1]['px']),float(i[1]['py']))))           \n",
    "    return((gpd.GeoDataFrame(geoms,columns=['geometry'])),gpd.GeoDataFrame(links,columns=['geometry']))"
   ]
  },
  {
   "cell_type": "markdown",
   "metadata": {},
   "source": [
    "Now all the nodes are filled. The topology is defined as follows: every catchment gets a maximum of four nodes (unpaved, paved, open water and greenhouse). If in the land use map, the appropriate land use does not occur in the catchment, no node is defined. The four nodes are plotted on a horizontal (west-east) line around the catchment centroid in the order of: openwater, unpaved, paved, greenhouse. Every node is connected with the lateral node of the catchnment using a RR-link. The files 3B_NOD.TP and 3B_LINK.TP are created describing this."
   ]
  },
  {
   "cell_type": "code",
   "execution_count": null,
   "metadata": {},
   "outputs": [],
   "source": [
    "## plt.rcParams['axes.edgecolor'] = 'w'\n",
    "import matplotlib.patches as mpatches\n",
    "fig, ax = plt.subplots(figsize=(10, 10))\n",
    "\n",
    "ax.xaxis.set_visible(False)\n",
    "ax.yaxis.set_visible(False)\n",
    "ax.set_xlim(139600, 142400)\n",
    "ax.set_ylim(391700, 395600)\n",
    "\n",
    "achtergrond = plt.imread( os.path.join(data_path,'gis/achtergrond.png'))\n",
    "ax.imshow(achtergrond, extent=(139517.12, 142957.76, 391606.8, 395907.6), interpolation='lanczos')\n",
    "\n",
    "hydamo.catchments.plot(ax=ax,label='Catchments', edgecolor='black', facecolor=\"pink\", alpha=0.5)\n",
    "hydamo.branches.plot(ax=ax, label='Channel')\n",
    "node_geometry(drrmodel.unpaved.unp_nodes)[0].plot(ax=ax,markersize=15,color='green',label='Unpaved')\n",
    "node_geometry(drrmodel.unpaved.unp_nodes)[1].plot(ax=ax, color='black',linewidth=0.5)\n",
    "node_geometry(drrmodel.paved.pav_nodes)[0].plot(ax=ax,markersize=15,color='red',label='Paved')\n",
    "node_geometry(drrmodel.paved.pav_nodes)[1].plot(ax=ax, color='black',linewidth=0.5)\n",
    "node_geometry(drrmodel.greenhouse.gh_nodes)[0].plot(ax=ax,markersize=15,color='yellow',label='Greenhouse')\n",
    "node_geometry(drrmodel.greenhouse.gh_nodes)[1].plot(ax=ax, color='black',linewidth=0.5)\n",
    "node_geometry(drrmodel.openwater.ow_nodes)[0].plot(ax=ax,markersize=15,color='blue',label='Openwater')\n",
    "node_geometry(drrmodel.external_forcings.boundary_nodes)[0].plot(ax=ax, markersize=15, color='purple',label='RR Boundary')\n",
    "node_geometry(drrmodel.openwater.ow_nodes)[1].plot(ax=ax, color='black',linewidth=0.5,label='RR-link')\n",
    "\n",
    "# manually add handles for polygon plot\n",
    "handles, labels = ax.get_legend_handles_labels()\n",
    "poly = mpatches.Patch(facecolor='pink', edgecolor='black',alpha=0.5)\n",
    "ax.legend(handles=handles.append(poly),labels=labels.append('Catchments'))\n",
    "fig.tight_layout()"
   ]
  },
  {
   "cell_type": "markdown",
   "metadata": {},
   "source": [
    "### Settings and writing\n",
    "\n",
    "Finally, we adjust some settings and export the coupled FM-RR model. For more info on the settings: https://content.oss.deltares.nl/delft3d/manuals/D-Flow_FM_User_Manual.pdf\n",
    "\n",
    "The 1D/2D model (FM) is written to the sub-folder 'fm'; RR-files are written to 'rr'. An XML-file (dimr-config.xml) describes the coupling between the two. Note that both the GUI and Interaktor do not (yet) support RR, so the only way to carry out a coupled simulation is using DIMR.\n"
   ]
  },
  {
   "cell_type": "code",
   "execution_count": null,
   "metadata": {},
   "outputs": [],
   "source": [
    "# Runtime and output settings. Run the first six days of 2000, using a 1 hour timestep for RR.\n",
    "# for FM model\n",
    "dfmmodel.mdu_parameters['refdate'] = 20000101\n",
    "dfmmodel.mdu_parameters['tstart'] = 0.0 * 3600\n",
    "dfmmodel.mdu_parameters['tstop'] =  2.0 * 3600\n",
    "dfmmodel.mdu_parameters['hisinterval'] = '120. 0. 0.'\n",
    "dfmmodel.mdu_parameters['cflmax'] = 0.7\n",
    "\n",
    "# for RR model\n",
    "drrmodel.d3b_parameters['Timestepsize'] = 300\n",
    "drrmodel.d3b_parameters['StartTime'] = '2000/01/01;00:00:00' # should be equal to refdate for D-HYDRO\n",
    "drrmodel.d3b_parameters['EndTime'] = '2000/01/07;00:00:00'\n",
    "drrmodel.d3b_parameters['RestartIn'] = 0\n",
    "drrmodel.d3b_parameters['RestartOut'] = 0\n",
    "drrmodel.d3b_parameters['RestartFileNamePrefix'] ='Test'\n",
    "drrmodel.d3b_parameters['UnsaturatedZone'] = 1\n",
    "drrmodel.d3b_parameters['UnpavedPercolationLikeSobek213']=-1\n",
    "drrmodel.d3b_parameters['VolumeCheckFactorToCF']=100000\n",
    "drrmodel.dimr_path = dimr_path\n",
    "\n",
    "# Create writer\n",
    "fm_writer = DFlowFMWriter(dfmmodel, output_dir= output_path, name='moergestels_broek')\n",
    "rr_writer = DFlowRRWriter(drrmodel, output_dir= output_path, name='moergestels_broek')\n",
    "\n",
    "# Write as model\n",
    "# The ldb is just for visualising in the interaktor - there is no RR component there.\n",
    "fm_writer.objects_to_ldb()\n",
    "fm_writer.write_all()\n",
    "rr_writer.write_all()"
   ]
  },
  {
   "cell_type": "markdown",
   "metadata": {},
   "source": [
    "Finished! Start the coupled model by clicking run.bat in the output model."
   ]
  }
 ],
 "metadata": {
  "kernelspec": {
   "display_name": "delft3dfmpy",
   "language": "python",
   "name": "delft3dfmpy"
  },
  "language_info": {
   "codemirror_mode": {
    "name": "ipython",
    "version": 3
   },
   "file_extension": ".py",
   "mimetype": "text/x-python",
   "name": "python",
   "nbconvert_exporter": "python",
   "pygments_lexer": "ipython3",
   "version": "3.7.10"
  }
 },
 "nbformat": 4,
 "nbformat_minor": 4
}
